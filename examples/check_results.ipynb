{
 "cells": [
  {
   "cell_type": "code",
   "execution_count": 11,
   "metadata": {},
   "outputs": [],
   "source": [
    "import quantities as pq\n",
    "import neo.utils\n",
    "import elephant\n",
    "import viziphant\n",
    "import nixio\n",
    "import matplotlib.pyplot as plt\n",
    "from elephant.signal_processing import wavelet_transform\n",
    "import numpy as np\n",
    "%matplotlib inline"
   ]
  },
  {
   "cell_type": "code",
   "execution_count": 12,
   "metadata": {},
   "outputs": [],
   "source": [
    "with neo.io.NixIO('butterworth_output.nix', 'ro') as io:\n",
    "    block = io.read_block()\n",
    "\n",
    "# Use first segment in the file\n",
    "segment = block.segments[0]"
   ]
  },
  {
   "cell_type": "code",
   "execution_count": 13,
   "metadata": {},
   "outputs": [
    {
     "data": {
      "text/plain": [
       "AnalogSignal with 96 channels of length 1003210; units uV; datatype float64\n",
       "name: 'NeuralTimeSeriesDownsampled'\n",
       "description: 'Downsampled continuous neuronal recordings, where the downsampling was performed on-line by the recording system'\n",
       "annotations: {'nix_name': 'neo.analogsignal.3af64f52b22f4c35a1b509a57950bfec',\n",
       "  'stream_id': '2',\n",
       "  'nsx': 2,\n",
       "  'neural_signal': True,\n",
       "  'filter_shift_correction': array(2.1) * ms}\n",
       "sampling rate: 1000.0 Hz\n",
       "time: -0.0021000000000000003 s to 1003.2079 s"
      ]
     },
     "execution_count": 13,
     "metadata": {},
     "output_type": "execute_result"
    }
   ],
   "source": [
    "segment.analogsignals[0]"
   ]
  },
  {
   "cell_type": "code",
   "execution_count": 14,
   "metadata": {},
   "outputs": [
    {
     "name": "stderr",
     "output_type": "stream",
     "text": [
      "/tmp/ipykernel_25119/2778596165.py:8: UserWarning: No artists with labels found to put in legend.  Note that artists whose label start with an underscore are ignored when legend() is called with no argument.\n",
      "  plt.legend()\n",
      "/tmp/ipykernel_25119/2778596165.py:9: UserWarning: Creating legend with loc=\"best\" can be slow with large amounts of data.\n",
      "  plt.tight_layout()\n",
      "/home/kern/miniconda3/envs/ANDA-NI/lib/python3.12/site-packages/IPython/core/events.py:82: UserWarning: Creating legend with loc=\"best\" can be slow with large amounts of data.\n",
      "  func(*args, **kwargs)\n",
      "/home/kern/miniconda3/envs/ANDA-NI/lib/python3.12/site-packages/IPython/core/pylabtools.py:170: UserWarning: Creating legend with loc=\"best\" can be slow with large amounts of data.\n",
      "  fig.canvas.print_figure(bytes_io, **kw)\n"
     ]
    }
   ],
   "source": [
    "# Plot first 5 channels of the signal\n",
    "# \n",
    "# plt.figure(figsize=(12, 6))\n",
    "# plt.plot(segment.analogsignals[0].times, segment.analogsignals[0])\n",
    "# plt.xlabel(\"Time (s)\")\n",
    "# plt.ylabel(\"Amplitude (uV)\")\n",
    "# plt.title(\"Neo AnalogSignal\")\n",
    "# plt.legend()\n",
    "# plt.tight_layout()\n",
    "# "
   ]
  },
  {
   "cell_type": "code",
   "execution_count": 9,
   "metadata": {},
   "outputs": [],
   "source": [
    "signal_wt = wavelet_transform(segment.analogsignals[0], \n",
    "                              frequency=50, n_cycles=6.0,\n",
    "                              sampling_frequency=1000, \n",
    "                              zero_padding=True)\n"
   ]
  },
  {
   "cell_type": "code",
   "execution_count": 10,
   "metadata": {},
   "outputs": [
    {
     "data": {
      "text/plain": [
       "array([[-1.58832962e+03+2344.20591513j, -1.24125133e+03 +183.0667153j ,\n",
       "        -7.13531630e+02+1375.68650333j, ...,\n",
       "         6.54741692e+02-1614.44254894j,  1.07305857e+01  -25.79125166j,\n",
       "         3.06894191e+02 -324.14986363j],\n",
       "       [-2.32849382e+03+1801.08411261j, -1.30750927e+03 -212.28259014j,\n",
       "        -1.17400481e+03+1126.53562606j, ...,\n",
       "         1.11548694e+03-1385.93428086j, -2.27715009e+00  -31.79761919j,\n",
       "         4.04494476e+02 -253.98687127j],\n",
       "       [-2.87913189e+03+1025.39873866j, -1.24596453e+03 -628.29322821j,\n",
       "        -1.54586944e+03 +724.70255134j, ...,\n",
       "         1.49514189e+03-1025.63391414j, -9.75440169e+00  -47.91109781j,\n",
       "         4.86965207e+02 -153.2748453j ],\n",
       "       ...,\n",
       "       [-1.60578842e+03-1668.41495157j,  6.73604196e+02 +194.45831667j,\n",
       "        -2.41831093e+03-2513.8594056j , ...,\n",
       "         6.20907423e+02  -67.84502415j, -2.57509769e+02-1097.58490407j,\n",
       "        -3.63582753e+02 -884.68873773j],\n",
       "       [-9.72296649e+02-2057.96230846j,  5.81560853e+02 +396.11315547j,\n",
       "        -1.47135684e+03-3127.89274896j, ...,\n",
       "         5.91628385e+02 +153.11587221j,  7.88589025e+01-1096.05837141j,\n",
       "        -8.25946898e+01 -905.02670578j],\n",
       "       [-2.61004207e+02-2218.78907568j,  4.29117565e+02 +556.78867112j,\n",
       "        -3.89908499e+02-3396.20983371j, ...,\n",
       "         4.88915810e+02 +344.70158549j,  3.90988903e+02 -995.80135094j,\n",
       "         1.77774031e+02 -842.93705235j]])"
      ]
     },
     "execution_count": 10,
     "metadata": {},
     "output_type": "execute_result"
    }
   ],
   "source": [
    "signal_wt"
   ]
  },
  {
   "cell_type": "code",
   "execution_count": null,
   "metadata": {},
   "outputs": [],
   "source": [
    "def _plot_wavelet_transform(input_signal,\n",
    "                            wavelet_transform_signal,\n",
    "                            signal_index,\n",
    "                            frequency):\n",
    "    wavelet_spectrum = np.abs(np.atleast_3d(wavelet_transform_signal))\n",
    "    avg_wavelet_spectrum = np.nanmean(wavelet_spectrum, axis=1)\n",
    "\n",
    "    fig, ax = plt.subplots(figsize=(10, 6))\n",
    "\n",
    "    im = ax.pcolor(input_signal.times,\n",
    "                   frequency,\n",
    "                   np.transpose(avg_wavelet_spectrum),\n",
    "                   cmap='cividis', shading='auto')\n",
    "    fig.colorbar(im)\n",
    "\n",
    "    time_units = input_signal.times.units.dimensionality\n",
    "    ax.set_ylabel(\"Frequency [Hz]\")\n",
    "    ax.set_xlabel(f\"Time [{time_units}]\")\n",
    "    ax.set_title(f\"Wavelet Spectrum - Signal {signal_index}\")"
   ]
  },
  {
   "cell_type": "code",
   "execution_count": null,
   "metadata": {},
   "outputs": [],
   "source": [
    "_plot_wavelet_transform(segment.analogsignals[0], signal_wt,signal_index=0, frequency=50)"
   ]
  }
 ],
 "metadata": {
  "kernelspec": {
   "display_name": "ANDA-NI",
   "language": "python",
   "name": "python3"
  },
  "language_info": {
   "codemirror_mode": {
    "name": "ipython",
    "version": 3
   },
   "file_extension": ".py",
   "mimetype": "text/x-python",
   "name": "python",
   "nbconvert_exporter": "python",
   "pygments_lexer": "ipython3",
   "version": "3.12.7"
  }
 },
 "nbformat": 4,
 "nbformat_minor": 2
}
